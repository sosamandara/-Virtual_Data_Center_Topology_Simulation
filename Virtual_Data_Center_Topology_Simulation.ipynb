{
  "cells": [
    {
      "attachments": {},
      "cell_type": "markdown",
      "metadata": {},
      "source": [
        "## Dijkstra      \n",
        "### NBD - Data Centers\n",
        "### Assignment n. 1    \n",
        "- Tito Tamburini    1837335\n",
        "- Angelo Mandara    2077139\n",
        "- Claudiu Gheorghiu 1845227"
      ]
    },
    {
      "attachments": {},
      "cell_type": "markdown",
      "metadata": {},
      "source": [
        "#### Import of useful packages"
      ]
    },
    {
      "cell_type": "code",
      "execution_count": 1,
      "metadata": {
        "id": "SveJ9x7kaf7N"
      },
      "outputs": [],
      "source": [
        "import networkx as nx\n",
        "import numpy as np\n",
        "from collections import deque\n",
        "import random as rd\n",
        "import time\n",
        "import matplotlib.pyplot as plt\n",
        "import math\n",
        "from heapq import heappop, heappush\n",
        "from concurrent.futures import ProcessPoolExecutor\n",
        "from tqdm import tqdm\n",
        "import warnings\n",
        "warnings.filterwarnings(\"ignore\")"
      ]
    },
    {
      "cell_type": "code",
      "execution_count": 2,
      "metadata": {
        "id": "23MAZhLQbiUD"
      },
      "outputs": [],
      "source": [
        "our_seed =555 # to reproduce our results"
      ]
    },
    {
      "attachments": {},
      "cell_type": "markdown",
      "metadata": {
        "id": "xp1AvFaBaf7V"
      },
      "source": [
        "## 1.1\n",
        "### Generate p-ER random graphs and r-regular random graph."
      ]
    },
    {
      "cell_type": "code",
      "execution_count": 3,
      "metadata": {
        "id": "oiuzoWOEaf7Y"
      },
      "outputs": [],
      "source": [
        "def pER_graph(K,p,our_seed):\n",
        "    return nx.erdos_renyi_graph(K,p,seed =our_seed)"
      ]
    },
    {
      "cell_type": "code",
      "execution_count": 4,
      "metadata": {
        "id": "h1fis2e6af7a"
      },
      "outputs": [],
      "source": [
        "def rregular_graph(K,r,our_seed):\n",
        "        return nx.random_regular_graph(r, K, seed =our_seed)"
      ]
    },
    {
      "cell_type": "code",
      "execution_count": 5,
      "metadata": {
        "id": "MTTDiWPRaf7e"
      },
      "outputs": [],
      "source": [
        "#let's generate some examples\n",
        "g1  =pER_graph(10,0.2,our_seed)\n",
        "g2 = rregular_graph(10,3,our_seed)"
      ]
    },
    {
      "cell_type": "code",
      "execution_count": 6,
      "metadata": {
        "colab": {
          "base_uri": "https://localhost:8080/",
          "height": 516
        },
        "id": "KxbuCSMTaf7g",
        "outputId": "0c7deefa-8902-4769-e0ca-51b8d41a1808"
      },
      "outputs": [
        {
          "data": {
            "image/png": "[encoded data removed]",
            "text/plain": [
              "<Figure size 432x288 with 1 Axes>"
            ]
          },
          "metadata": {},
          "output_type": "display_data"
        }
      ],
      "source": [
        "#visualize\n",
        "nx.draw(g1, node_color='#1f77b4',edge_color='#ff7f0e',width=0.5,node_size=400,style='-', with_labels = True)"
      ]
    },
    {
      "cell_type": "code",
      "execution_count": 7,
      "metadata": {
        "colab": {
          "base_uri": "https://localhost:8080/",
          "height": 516
        },
        "id": "8Dw4BndZaf7h",
        "outputId": "7a37a984-9628-4360-f04d-bf7cf5245ae5"
      },
      "outputs": [
        {
          "data": {
            "image/png": "[encoded data removed]",
            "text/plain": [
              "<Figure size 432x288 with 1 Axes>"
            ]
          },
          "metadata": {},
          "output_type": "display_data"
        }
      ],
      "source": [
        "#visualize\n",
        "nx.draw(g2, node_color='#1f77b4',edge_color='#ff7f0e',width=0.5,node_size=400,style='-', with_labels = True)"
      ]
    },
    {
      "cell_type": "code",
      "execution_count": 5,
      "metadata": {
        "id": "3rgUZyPyaf7i"
      },
      "outputs": [],
      "source": [
        "#we define a function to obtain the adjacency matrix of a given graph\n",
        "def get_adjacency_matrix(graph):\n",
        "    matrix = np.zeros((len(graph), len(graph)), dtype=int)  #initiate the matrix with all zeros\n",
        "    for i in range(len(graph)):\n",
        "        for j in graph[i]:                                  #if there is the edge, set equal 1\n",
        "            matrix[i][j] = 1\n",
        "    return matrix"
      ]
    },
    {
      "cell_type": "code",
      "execution_count": null,
      "metadata": {
        "id": "MkkgkR_Aaf7j"
      },
      "outputs": [],
      "source": [
        "A1 = get_adjacency_matrix(g1)\n",
        "A2 =  get_adjacency_matrix(g2)"
      ]
    },
    {
      "attachments": {},
      "cell_type": "markdown",
      "metadata": {},
      "source": [
        "## 1.2\n",
        "### Write a script to check the connectivity of a given graph.\n",
        "- algebraic method 1 (irreducibility);\n",
        "- algebraic method 2 (eigenvalue of the Laplacian matrix);\n",
        "- breadth-first search algorithm.\n"
      ]
    },
    {
      "cell_type": "code",
      "execution_count": null,
      "metadata": {
        "id": "Qub3qirofWAU"
      },
      "outputs": [],
      "source": [
        "#we generate the matrix D, diagonal matrix with degree of the node i in the position D[i,i]\n",
        "def diagonal(A):\n",
        "    degree = [sum(A[i,]) for i in range(len(A))]\n",
        "    return np.diag(degree)"
      ]
    },
    {
      "cell_type": "code",
      "execution_count": null,
      "metadata": {
        "id": "6tb20woGaf7l"
      },
      "outputs": [],
      "source": [
        "#the laplacian matrix of A is obtained subtracting from D(defined previously) A\n",
        "L1 = diagonal(A1) - A1\n",
        "L2 = diagonal(A2) - A2"
      ]
    },
    {
      "attachments": {},
      "cell_type": "markdown",
      "metadata": {},
      "source": [
        "### Method 1: Irreducibility"
      ]
    },
    {
      "attachments": {},
      "cell_type": "markdown",
      "metadata": {},
      "source": [
        "It can be shown that an n × n matrix A is irreducible if\n",
        "\n",
        "$I + A + A^2 + · · · + A^{n−1} > 0$"
      ]
    },
    {
      "cell_type": "code",
      "execution_count": null,
      "metadata": {
        "id": "S-7RYJo-esH8"
      },
      "outputs": [],
      "source": [
        "def method1(A):\n",
        "    result = np.zeros((len(A), len(A)), dtype=int)                  #initiate the matrix with all zeros\n",
        "    for i in range(len(A)):\n",
        "        result = np.add(np.linalg.matrix_power(A,i),result)         #we evaluate the i-th power and we sum it with the matrix obtained with \n",
        "                                                                    #the previous operations\n",
        "    return np.min(result>0)                                         #check if all the elements of the obtained matrix are positive"
      ]
    },
    {
      "cell_type": "code",
      "execution_count": null,
      "metadata": {
        "colab": {
          "base_uri": "https://localhost:8080/"
        },
        "id": "8F-E0PHSaf7n",
        "outputId": "ff193cca-1015-4472-8f79-815f4f64eca1"
      },
      "outputs": [
        {
          "data": {
            "text/plain": [
              "False"
            ]
          },
          "execution_count": 13,
          "metadata": {},
          "output_type": "execute_result"
        }
      ],
      "source": [
        "#check the method on the example\n",
        "method1(A1)"
      ]
    },
    {
      "cell_type": "code",
      "execution_count": null,
      "metadata": {
        "colab": {
          "base_uri": "https://localhost:8080/"
        },
        "id": "WqLPk74-af7o",
        "outputId": "8869c2ba-b192-4edf-a63a-53a148d094de"
      },
      "outputs": [
        {
          "data": {
            "text/plain": [
              "True"
            ]
          },
          "execution_count": 14,
          "metadata": {},
          "output_type": "execute_result"
        }
      ],
      "source": [
        "#check the method on the example\n",
        "method1(A2)"
      ]
    },
    {
      "attachments": {},
      "cell_type": "markdown",
      "metadata": {},
      "source": [
        "### Method 2: Eigenvalues"
      ]
    },
    {
      "attachments": {},
      "cell_type": "markdown",
      "metadata": {},
      "source": [
        "For an undirected graph the number of connected components is\n",
        "equal to the algebraic multiplicity of the smallest eigenvalue of the\n",
        "graph Laplacian.\n",
        "\n",
        "Let $η_1 = 0 ≤ η_2 ≤ · · · ≤ η_n$ denote the $n$ real, non-negative\n",
        "eigenvalues of $L$.\n",
        "The graph is connected if and only if $η_2 > 0$.\n",
        "\n",
        "We will define a method thath will check this."
      ]
    },
    {
      "cell_type": "code",
      "execution_count": 6,
      "metadata": {
        "id": "ZjLsL9DXaf7o"
      },
      "outputs": [],
      "source": [
        "def method2(A):\n",
        "    L = diagonal(A) - A                             #use the previously define function diagonal D and subtract A to obtain the Laplacian matrix\n",
        "    eigenvalues = sorted(np.linalg.eigvals(L))      #use the already implemented function linalg.eigvals of numpy to obtain the eigenvalues of L\n",
        "    return eigenvalues[1]> 1e-10                    #Use a small enough tolerance, this condition is important, otherwise the method will\n",
        "                                                    #always return True"
      ]
    },
    {
      "cell_type": "code",
      "execution_count": null,
      "metadata": {
        "colab": {
          "base_uri": "https://localhost:8080/"
        },
        "id": "E2PHyoi7af7p",
        "outputId": "07f37704-2ea5-4d2e-e0c5-ae5831e34edd"
      },
      "outputs": [
        {
          "data": {
            "text/plain": [
              "False"
            ]
          },
          "execution_count": 16,
          "metadata": {},
          "output_type": "execute_result"
        }
      ],
      "source": [
        "#check the method on the example\n",
        "method2(A1)"
      ]
    },
    {
      "cell_type": "code",
      "execution_count": null,
      "metadata": {
        "colab": {
          "base_uri": "https://localhost:8080/"
        },
        "id": "uDyfkMeraf7p",
        "outputId": "54e2d84e-dc57-4b96-e2d9-05f0ace85686"
      },
      "outputs": [
        {
          "data": {
            "text/plain": [
              "True"
            ]
          },
          "execution_count": 17,
          "metadata": {},
          "output_type": "execute_result"
        }
      ],
      "source": [
        "#check the method on the example\n",
        "method2(A2)"
      ]
    },
    {
      "attachments": {},
      "cell_type": "markdown",
      "metadata": {},
      "source": [
        "### Method 3: BFS"
      ]
    },
    {
      "attachments": {},
      "cell_type": "markdown",
      "metadata": {},
      "source": [
        "To check the connectivity of a graph using BFS, we start from any arbitrary vertex and traverse the graph using BFS. \n",
        "\n",
        "If we can visit all the vertices of the graph during the traversal, then the graph is connected. Otherwise, if there are some vertices that cannot be visited during the traversal, the graph is disconnected."
      ]
    },
    {
      "cell_type": "code",
      "execution_count": 7,
      "metadata": {
        "id": "Xoj_IT6iaf7q"
      },
      "outputs": [],
      "source": [
        "def method3(g):\n",
        "\n",
        "    start_node = rd.choice(list(g.nodes())) #Random starting node\n",
        "    Q = deque([start_node]) #Initialization of the queue\n",
        "    visited  = [start_node] #Initialization of the visited list\n",
        "\n",
        "    while Q:\n",
        "        current_node = Q.popleft() #Remove first node from list\n",
        "        for neighbor in g[current_node]: #Iterate on the neighbors node\n",
        "            if neighbor not in visited:\n",
        "                visited.append(neighbor)\n",
        "                Q.append(neighbor)\n",
        "    \n",
        "    # check if all nodes are visited\n",
        "    return len(visited) == len(g)"
      ]
    },
    {
      "cell_type": "code",
      "execution_count": null,
      "metadata": {
        "colab": {
          "base_uri": "https://localhost:8080/"
        },
        "id": "ZLTH-Vh1af7q",
        "outputId": "e8dadde7-1d7b-4ed7-a0e3-a1d3d022c2b3"
      },
      "outputs": [
        {
          "data": {
            "text/plain": [
              "False"
            ]
          },
          "execution_count": 19,
          "metadata": {},
          "output_type": "execute_result"
        }
      ],
      "source": [
        "#check the method on the example\n",
        "method3(g1)"
      ]
    },
    {
      "cell_type": "code",
      "execution_count": null,
      "metadata": {
        "colab": {
          "base_uri": "https://localhost:8080/"
        },
        "id": "Elq-zIW_af7r",
        "outputId": "e93e23dd-cddb-4a40-ac1f-3ce283a33ed1"
      },
      "outputs": [
        {
          "data": {
            "text/plain": [
              "True"
            ]
          },
          "execution_count": 20,
          "metadata": {},
          "output_type": "execute_result"
        }
      ],
      "source": [
        "#check the method on the example\n",
        "method3(g2)"
      ]
    },
    {
      "attachments": {},
      "cell_type": "markdown",
      "metadata": {},
      "source": [
        "## 1.3\n",
        "### Compare the complexity as a function of $K$ of the methods above by plotting curves of a complexity measure vs $K$.\n"
      ]
    },
    {
      "attachments": {},
      "cell_type": "markdown",
      "metadata": {},
      "source": [
        "We define a function that will take in input different parameters. We need to choose if we want to evaluate the complexity in the case of rregular graph or pER graph, passing a boolean value(isreegular), a value of p and r, seed(is needed since we need a fair comparison), which method to consider and the interval of the nodes $K$ to consider. We have choosen to pass also the range of the interval since in the case of the irreducible method will take very long time(the method is $O(K^3)$ complexity) to run from a value of 410. This choice won't change our comparison between the algorithm and won't change our final plot. "
      ]
    },
    {
      "cell_type": "code",
      "execution_count": 8,
      "metadata": {
        "id": "aQo0ewkBTEy_"
      },
      "outputs": [],
      "source": [
        "def complexity(isrregular,p,r,our_seed,interval,method_number):\n",
        "    times= []\n",
        "    for k in tqdm(range(10, int(interval), 100)):       #generation of the chosen graph\n",
        "        if(isrregular):\n",
        "            g = rregular_graph(k,r,our_seed)        \n",
        "        else:\n",
        "            g  = pER_graph(k,p,our_seed)\n",
        "                                                    \n",
        "        if method_number==1:\n",
        "          method=method1\n",
        "          g = get_adjacency_matrix(g)\n",
        "        if method_number==2:\n",
        "          method=method2\n",
        "          g = get_adjacency_matrix(g)\n",
        "        if method_number==3:\n",
        "          method=method3\n",
        "        #Method i complexity\n",
        "        start  = time.time()\n",
        "        method(g)\n",
        "        end = time.time() -start\n",
        "        times.append(end)\n",
        "\n",
        "    return times"
      ]
    },
    {
      "cell_type": "code",
      "execution_count": null,
      "metadata": {
        "id": "YHoGOwUVTa5L"
      },
      "outputs": [],
      "source": [
        "#we choose less node for irreducibility method since is esponential, the plot will be indicative anyway\n",
        "#save the result for different method and different graph\n",
        "irr_r = complexity(True,0.5,5,our_seed,410,1)\n",
        "irr_per = complexity(False,0.5,5,our_seed,410,1)\n",
        "eig_r = complexity(True,0.5,5,our_seed,3010,2)\n",
        "eig_per = complexity(False,0.5,5,our_seed,3010,2)\n",
        "bfs_r = complexity(True,0.5,5,our_seed,3010,3)\n",
        "bfs_per = complexity(False,0.5,5,our_seed,3010,3)"
      ]
    },
    {
      "cell_type": "code",
      "execution_count": null,
      "metadata": {
        "id": "zN41E7wWgDxG",
        "outputId": "1e612cab-c623-4a42-acdb-323c18800c84"
      },
      "outputs": [
        {
          "data": {
            "image/png": "[encoded data removed]",
            "text/plain": [
              "<Figure size 1152x432 with 2 Axes>"
            ]
          },
          "metadata": {
            "needs_background": "light"
          },
          "output_type": "display_data"
        }
      ],
      "source": [
        "#time to plot\n",
        "fig, (ax0, ax1) = plt.subplots(1, 2, sharex=True, figsize=(16, 6))\n",
        "\n",
        "# Regular graphs\n",
        "ax0.plot(range(10,410,100), irr_r, 'r-', color='C0', linestyle='-',  linewidth=3, label='Method-1: Irreducibility')\n",
        "ax0.plot(range(10,3010,100), eig_r, 'g-', color='C1', linestyle='-', linewidth=3, label='Method-2: Laplacian')\n",
        "ax0.plot(range(10,3010,100), bfs_r, 'b-', color='C2', linestyle='-', linewidth=3, label='Method-3: BFS')\n",
        "ax0.set_xlabel(\"Number of nodes (K)\")\n",
        "ax0.set_ylabel(\"Execution time (sec)\")\n",
        "ax0.set_title('i) r-regular graphs')\n",
        "ax0.legend()\n",
        "\n",
        "# Random ER graphs\n",
        "ax1.plot(range(10,410,100), irr_per, 'r-',  color='C0', linestyle='-',  linewidth=3, label='Method-1: Irreducibility')\n",
        "ax1.plot(range(10,3010,100), eig_per, 'g-', color='C1', linestyle='-', linewidth=3, label='Method-2: Laplacian')\n",
        "ax1.plot(range(10,3010,100), bfs_per, 'b-', color='C2', linestyle='-', linewidth=3, label='Method-3: BFS')\n",
        "ax1.set_xlabel(\"Number of nodes (K)\")\n",
        "ax1.set_ylabel(\"Execution time (sec)\")\n",
        "ax1.set_title('ii) p-ER Graphs')\n",
        "ax1.set_ylim(ax0.get_ylim())\n",
        "ax1.legend()\n",
        "\n",
        "\n",
        "plt.show()\n"
      ]
    },
    {
      "attachments": {},
      "cell_type": "markdown",
      "metadata": {},
      "source": [
        "## 1.4\n",
        "Let $p_C(G)$ denote the probability that a graph $G$ is connected.\n",
        "By running Monte Carlo simulations, estimate $p_C(G)$ and\n",
        "produce two curve plots:\n",
        "- $p_C(G)$ vs. $p$ for $Erdos-Renyi$ graphs with $K = 100$.\n",
        "- $p_C(G)$ vs. $K$, for $K ≤ 100$, for $r$-regular random graphs with\n",
        "$r = 2$ and $r = 8$."
      ]
    },
    {
      "attachments": {},
      "cell_type": "markdown",
      "metadata": {},
      "source": [
        "Since we have obtained that BFS method(method3) is the best one among the ones considered, we will use this method to check if the graph generated is connected or not."
      ]
    },
    {
      "attachments": {},
      "cell_type": "markdown",
      "metadata": {},
      "source": [
        "In the function *prob_complexity_er* we will pass $K$, number of nodes, interval of the probability (in our case will be from 0 to 1 of course, but we have added this parameter since we will check what happen also in a particular subinterval of $[0,1]$), and the step."
      ]
    },
    {
      "cell_type": "code",
      "execution_count": null,
      "metadata": {
        "id": "oo8f8Qmvk3hQ"
      },
      "outputs": [],
      "source": [
        "def prob_complexity_er(K,interval,path):\n",
        "  prob = np.arange(0, interval, path)\n",
        "  count = np.zeros(len(prob))       #initiate the count vector\n",
        "  for i,p in enumerate(prob):\n",
        "    for _ in range(100):            #for each value of p 100 iterations\n",
        "      g  = pER_graph(K,p,None)      #generate the graph\n",
        "      count[i] += method3(g)*1      #check if is connected, and add the result(will add 0 or 1)\n",
        "  #time to plot\n",
        "  plt.figure(figsize=(10, 6))\n",
        "  plt.plot(prob, count/100, 'r-', color='C0', linestyle='-', linewidth=3)\n",
        "  plt.xlabel('values of probabilities p') # set x label\n",
        "  plt.ylabel('# of obtained connectivities') # set y label\n",
        "  plt.title(\"Probability of a connected p-ER random graph as a function of p for K = 100\") # set title\n",
        "  plt.show()\n"
      ]
    },
    {
      "cell_type": "code",
      "execution_count": null,
      "metadata": {
        "colab": {
          "base_uri": "https://localhost:8080/",
          "height": 564
        },
        "id": "jbAGl2pFn62r",
        "outputId": "fa3a30e6-c1e2-4855-ac40-5f7a88503b90"
      },
      "outputs": [
        {
          "data": {
            "image/png": "[encoded data removed]",
            "text/plain": [
              "<Figure size 720x432 with 1 Axes>"
            ]
          },
          "metadata": {
            "needs_background": "light"
          },
          "output_type": "display_data"
        }
      ],
      "source": [
        "prob_complexity_er(100,1.05,0.05)"
      ]
    },
    {
      "attachments": {},
      "cell_type": "markdown",
      "metadata": {
        "id": "u4Y1l1kjwP_s"
      },
      "source": [
        "Let's give more attention between 0 and 0.15.\n",
        "\n",
        "Pay attention that the scale is from 0.99 to 1!"
      ]
    },
    {
      "cell_type": "code",
      "execution_count": null,
      "metadata": {
        "id": "hlw-OmqywP_s",
        "outputId": "59950fcc-bda9-45f6-e6dd-2fe98d274a93"
      },
      "outputs": [
        {
          "data": {
            "image/png": "[encoded data removed]",
            "text/plain": [
              "<Figure size 720x432 with 1 Axes>"
            ]
          },
          "metadata": {
            "needs_background": "light"
          },
          "output_type": "display_data"
        }
      ],
      "source": [
        "prob_complexity_er(100,0.15,0.01)"
      ]
    },
    {
      "attachments": {},
      "cell_type": "markdown",
      "metadata": {},
      "source": [
        "### R-regular random graphs"
      ]
    },
    {
      "attachments": {},
      "cell_type": "markdown",
      "metadata": {},
      "source": [
        "Now we check the same,just on a $r$-regular graph.\n",
        "We need to pass the value of $r$ to the $prob_complexity_er$ function."
      ]
    },
    {
      "cell_type": "code",
      "execution_count": null,
      "metadata": {
        "id": "6xqO80G1onst"
      },
      "outputs": [],
      "source": [
        "def prob_complexity_er(r):\n",
        "  K = range(10,110,1)                     \n",
        "  count = np.zeros(len(K))                #initiate the count vector\n",
        "  for i,k in enumerate(K):\n",
        "    if (r*k)%2==0:                        #this check is necessary\n",
        "      for _ in range(100):                #repeat 100 times\n",
        "        g  = rregular_graph(k,r,None)     #generate the graph\n",
        "        count[i] += method3(g)*1          #check if is connected, and add the result(will add 0 or 1)\n",
        "  #return the value of K and the rate\n",
        "  return K,count/100"
      ]
    },
    {
      "cell_type": "code",
      "execution_count": null,
      "metadata": {
        "colab": {
          "base_uri": "https://localhost:8080/",
          "height": 564
        },
        "id": "77hUYZ-krhGZ",
        "outputId": "2d4e8855-e463-4910-eab7-eeb15f681121"
      },
      "outputs": [
        {
          "data": {
            "image/png": "[encoded data removed]",
            "text/plain": [
              "<Figure size 720x432 with 1 Axes>"
            ]
          },
          "metadata": {
            "needs_background": "light"
          },
          "output_type": "display_data"
        }
      ],
      "source": [
        "R = [2, 8]\n",
        "#time to plot\n",
        "colors = ['C0', 'C1']\n",
        "legend_labels = ['r = 2', 'r = 8']\n",
        "\n",
        "plt.figure(figsize=(10, 6))\n",
        "for i, r in enumerate(R):                 #iterate over the two values\n",
        "  K, count = prob_complexity_er(r)\n",
        "  plt.plot(K, count, color=colors[i], label=legend_labels[i],linewidth=3)\n",
        "plt.xlabel('values of nodes k') # set x label\n",
        "plt.ylabel('# of obtained connectivities') # set y label\n",
        "plt.title(\"Graph connectivity in term of k with r = \"+str(R)) # set title\n",
        "plt.legend()\n",
        "plt.show()\n"
      ]
    },
    {
      "cell_type": "markdown",
      "metadata": {
        "id": "WyI6ycJulym3"
      },
      "source": [
        "# Part 2"
      ]
    },
    {
      "cell_type": "markdown",
      "metadata": {
        "id": "zAilrEiFlym3"
      },
      "source": [
        "## Build Data Center Network"
      ]
    },
    {
      "cell_type": "code",
      "execution_count": 9,
      "metadata": {
        "id": "1dlfRGsXlym4"
      },
      "outputs": [],
      "source": [
        "# Define constants\n",
        "C = 10e9 #bit/s\n",
        "tau = 5e-6 #s\n",
        "Lf = 4e12 #bit \n",
        "Lo = 4e12 #bit\n",
        "E_X = 8 * 3600 #s\n",
        "T0 = 30 #s\n",
        "xi = 0.1 #cost\n",
        "f = 48 / 1500 #cost\n",
        "n = 64 #number"
      ]
    },
    {
      "cell_type": "markdown",
      "metadata": {
        "id": "46SWQ1I5lym5"
      },
      "source": [
        "#### Fat-Tree Topology"
      ]
    },
    {
      "cell_type": "code",
      "execution_count": 10,
      "metadata": {
        "id": "khuAXoGtGe2A"
      },
      "outputs": [],
      "source": [
        "# Set the number of ports per switch\n",
        "n = 64\n",
        "\n",
        "# Calculate the number of core switches needed\n",
        "num_core_switches = int(n/2)**2\n",
        "num_pods = n \n",
        "num_aggr_switches = int(n/2)\n",
        "num_edge_switches = int(n/2)\n",
        "num_server = int(n/2)\n",
        "# Create a new empty graph\n",
        "fat = nx.Graph()\n",
        "#let's start adding the core switches\n",
        "for i in range(num_core_switches):\n",
        "  fat.add_node(i,Type='core')\n",
        "\n",
        "#let's add now the aggregators, are in number num_aggr_switches*num_pods\n",
        "#and we have to add num_core_switches to not overlap the already inserted of type core switches  \n",
        "for i in range(num_aggr_switches*num_pods):\n",
        "  fat.add_node(i+num_core_switches,Type='aggr')\n",
        "\n",
        "#let's add now the edges, are in number num_edge_switches*num_pods\n",
        "#and we have to add num_core_switches+num_pods*num_aggr_switches(aggr+core types) to not overlap \n",
        "#the already inserted of type core switches and aggregators\n",
        "for i in range(num_edge_switches*num_pods):\n",
        "  fat.add_node(i+num_core_switches+num_pods*num_aggr_switches,Type='edge')\n",
        "\n",
        "#now we have to add the edges, we need to connect each aggregator with the corresponding cores\n",
        "#1st aggregator in the pod will connect to the first-n/2 cores, the 2nd with the second_n/2 cores and so on\n",
        "#then we have to connect each aggregator with the corresponding edges in the same pod(are in number n/2)\n",
        "#to do that we have to recover in with pod the aggregator is((number of node-num_core_switches)//num_aggregators)\n",
        "#then to recover the initial edge in the pod we have to multiply the number obtained for the number of aggregators\n",
        "#sum then the number of cores and switches(num_core_switches+num_pods*num_aggr_switches) and thanks to the\n",
        "#iterator j we can range this number in all the edges in the pod \n",
        "for i in range(num_core_switches,num_core_switches+num_aggr_switches*n,1):\n",
        "  for j in range(num_aggr_switches):\n",
        "    #print(i,(i%num_aggr_switches)*num_aggr_switches+j)\n",
        "    fat.add_edge(i,(i%num_aggr_switches)*num_aggr_switches+j)\n",
        "    fat.add_edge(i,num_core_switches+num_pods*num_aggr_switches+((i-num_core_switches)//num_aggr_switches)*num_aggr_switches+j)\n",
        "\n",
        "#fiinally for each edge we will add n/2 servers\n",
        "count = num_core_switches+n*n\n",
        "edge = [node for node in fat.nodes() if fat.nodes[node]['Type']=='edge']\n",
        "for node in edge:\n",
        "  for _ in range(int(n/2)):\n",
        "    count += 1\n",
        "    fat.add_node(count,Type='server')\n",
        "    fat.add_edge(node,count)"
      ]
    },
    {
      "cell_type": "markdown",
      "metadata": {
        "id": "75TQakeoMuLk"
      },
      "source": [
        "Just some checks about number of nodes, degree and connectivity."
      ]
    },
    {
      "cell_type": "code",
      "execution_count": 11,
      "metadata": {
        "colab": {
          "base_uri": "https://localhost:8080/"
        },
        "id": "ItG__Hej5ZIy",
        "outputId": "0e7b506f-f242-4f57-d66b-d2a5a070b6c1"
      },
      "outputs": [
        {
          "data": {
            "text/plain": [
              "True"
            ]
          },
          "execution_count": 11,
          "metadata": {},
          "output_type": "execute_result"
        }
      ],
      "source": [
        "len(fat.nodes())==(n**3)/4+5*(n**2)/4"
      ]
    },
    {
      "cell_type": "code",
      "execution_count": 12,
      "metadata": {
        "id": "DXK5_HlFz7YJ"
      },
      "outputs": [],
      "source": [
        "core = [node for node in fat.nodes() if fat.nodes[node]['Type']=='core']\n",
        "aggr = [node for node in fat.nodes() if fat.nodes[node]['Type']=='aggr']\n",
        "edge = [node for node in fat.nodes() if fat.nodes[node]['Type']=='edge']\n",
        "server= [node for node in fat.nodes() if fat.nodes[node]['Type']=='server']"
      ]
    },
    {
      "cell_type": "code",
      "execution_count": 13,
      "metadata": {
        "colab": {
          "base_uri": "https://localhost:8080/"
        },
        "id": "PCxCG7ia3D8Q",
        "outputId": "3ef46508-9af8-4128-aa61-6471cb01bf29"
      },
      "outputs": [
        {
          "data": {
            "text/plain": [
              "True"
            ]
          },
          "execution_count": 13,
          "metadata": {},
          "output_type": "execute_result"
        }
      ],
      "source": [
        "len(core)==num_core_switches"
      ]
    },
    {
      "cell_type": "code",
      "execution_count": 14,
      "metadata": {
        "colab": {
          "base_uri": "https://localhost:8080/"
        },
        "id": "S9NefRg33GqN",
        "outputId": "f9119e6d-f992-40f9-a08e-c8e4d746813f"
      },
      "outputs": [
        {
          "data": {
            "text/plain": [
              "True"
            ]
          },
          "execution_count": 14,
          "metadata": {},
          "output_type": "execute_result"
        }
      ],
      "source": [
        "len(aggr)==num_aggr_switches*n"
      ]
    },
    {
      "cell_type": "code",
      "execution_count": 15,
      "metadata": {
        "colab": {
          "base_uri": "https://localhost:8080/"
        },
        "id": "I4Ppc5WZ3Ko6",
        "outputId": "460d27b2-6670-4c08-ec74-68f0d40f6f11"
      },
      "outputs": [
        {
          "data": {
            "text/plain": [
              "True"
            ]
          },
          "execution_count": 15,
          "metadata": {},
          "output_type": "execute_result"
        }
      ],
      "source": [
        "len(edge)==num_aggr_switches*n"
      ]
    },
    {
      "cell_type": "code",
      "execution_count": 16,
      "metadata": {
        "colab": {
          "base_uri": "https://localhost:8080/"
        },
        "id": "iTTm0TwnFuHc",
        "outputId": "f6f7d780-d1ad-4e51-d609-6c64ab989059"
      },
      "outputs": [
        {
          "data": {
            "text/plain": [
              "True"
            ]
          },
          "execution_count": 16,
          "metadata": {},
          "output_type": "execute_result"
        }
      ],
      "source": [
        "len(server)==(n**3)/4"
      ]
    },
    {
      "cell_type": "code",
      "execution_count": 17,
      "metadata": {
        "id": "8IRbRjrHFnbw"
      },
      "outputs": [],
      "source": [
        "degree_core = [fat.degree(node) for node in fat.nodes() if fat.nodes[node]['Type']=='core']\n",
        "degree_aggr = [fat.degree(node) for node in fat.nodes() if fat.nodes[node]['Type']=='aggr']\n",
        "degree_edge = [fat.degree(node) for node in fat.nodes() if fat.nodes[node]['Type']=='edge']\n",
        "degree_server=[fat.degree(node) for node in fat.nodes() if fat.nodes[node]['Type']=='server']"
      ]
    },
    {
      "cell_type": "code",
      "execution_count": 18,
      "metadata": {
        "colab": {
          "base_uri": "https://localhost:8080/"
        },
        "id": "q2H8VuxnGF6c",
        "outputId": "bbb5a17a-e410-4894-ecd3-56d37ea7a0a2"
      },
      "outputs": [
        {
          "name": "stdout",
          "output_type": "stream",
          "text": [
            "{64}\n",
            "{64}\n",
            "{64}\n",
            "{1}\n"
          ]
        }
      ],
      "source": [
        "print(set(degree_core))\n",
        "print(set(degree_aggr))\n",
        "print(set(degree_edge))\n",
        "print(set(degree_server))"
      ]
    },
    {
      "cell_type": "code",
      "execution_count": 19,
      "metadata": {
        "id": "7vqZcYqClym-"
      },
      "outputs": [],
      "source": [
        "def chooseA(fat,n):\n",
        "    index = rd.randint(((n/2)**2)+n*n,(n**3)/4+5*(n**2)/4)\n",
        "    return index"
      ]
    },
    {
      "cell_type": "markdown",
      "metadata": {
        "id": "okN-pk3-sls6"
      },
      "source": [
        "#### Jellyfish Topology"
      ]
    },
    {
      "cell_type": "code",
      "execution_count": 20,
      "metadata": {
        "id": "CLIIgqtys2ii"
      },
      "outputs": [],
      "source": [
        "servers = len(server)\n",
        "r = int(n/2)\n",
        "K = int(len(fat.nodes()) - servers) #"
      ]
    },
    {
      "cell_type": "code",
      "execution_count": 21,
      "metadata": {
        "id": "nyvhUWsQs5Cl"
      },
      "outputs": [],
      "source": [
        "jelly_servers = K * r"
      ]
    },
    {
      "cell_type": "code",
      "execution_count": 22,
      "metadata": {
        "id": "Nr8jqYUTs6d4"
      },
      "outputs": [],
      "source": [
        "jelly = rregular_graph(K,r,None)"
      ]
    },
    {
      "cell_type": "code",
      "execution_count": 23,
      "metadata": {
        "id": "ao2d6zFgs85_"
      },
      "outputs": [],
      "source": [
        "nx.set_node_attributes(jelly,'switch','Type')"
      ]
    },
    {
      "cell_type": "code",
      "execution_count": 24,
      "metadata": {
        "id": "Xj5q7oW2s-fP"
      },
      "outputs": [],
      "source": [
        "switch_nodes = [node for node in jelly.nodes() if jelly.nodes()[node]['Type'] == 'switch']\n",
        "server = K\n",
        "for node in switch_nodes:\n",
        "    cnt = 0\n",
        "    while(cnt <r):\n",
        "        jelly.add_node(server,Type='server')\n",
        "        jelly.add_edge(node,server)\n",
        "        server+=1\n",
        "        cnt+=1"
      ]
    },
    {
      "cell_type": "code",
      "execution_count": 25,
      "metadata": {
        "id": "GOV5us0HtAnj"
      },
      "outputs": [],
      "source": [
        "def chooseB(jelly,K):\n",
        "    index = rd.randint(K,len(jelly.nodes()))\n",
        "    return index"
      ]
    },
    {
      "cell_type": "markdown",
      "metadata": {
        "id": "QjhQ_4-itBKm"
      },
      "source": [
        "### Simulation Functions"
      ]
    },
    {
      "cell_type": "code",
      "execution_count": 26,
      "metadata": {
        "id": "Tp-RPjYtTDAh"
      },
      "outputs": [],
      "source": [
        "def simulation(N,tree,tau,E_X,Lo,C,Lf,f,A,distances,nearest):\n",
        "    T = np.zeros(N)\n",
        "    nearest  = nearest[:N] #Find N nearest \n",
        "    ti  = [2*tau*x[1] for x in nearest]\n",
        "    den = sum([1/t for t in ti]) #somma inversi ti\n",
        "    theta  = [((1/t)/den)*C for t in ti  ]\n",
        "    #Sample Xi from negative exponential\n",
        "    Xi = np.random.exponential(scale=  E_X/N,size = N)\n",
        "    #Sample Loi from uniform\n",
        "    Lo =  np.random.uniform(0,2*Lo/N,size=N)\n",
        "    L = [(Lf/N +Loi)*(1+f) for Loi in Lo] #Total data transferred\n",
        "    for i in range(len(L)):\n",
        "        T[i] = L[i]/theta[i]  #Time to transfer data\n",
        "    R  = T0 + max(T+Xi)\n",
        "    X = [xi+T0 for xi in Xi]\n",
        "    theta  =sum(X)\n",
        "    return R,theta"
      ]
    },
    {
      "cell_type": "code",
      "execution_count": 28,
      "metadata": {
        "id": "iXaFACW0TRKr"
      },
      "outputs": [],
      "source": [
        "#N_vec  = list(range(1,10100,100))\n",
        "N_vec  = list(range(1,10001,1))"
      ]
    },
    {
      "cell_type": "code",
      "execution_count": 29,
      "metadata": {
        "id": "-p88TJDCLPVs"
      },
      "outputs": [],
      "source": [
        "def simulate_fat(N):\n",
        "    #we calculated just one time the neighbours and we pass this list to the function simulation\n",
        "    #this will speed up a lot the calculation, since fat tree is deterministic there is no reason to \n",
        "    #use every time dijkstra \n",
        "    A = chooseA(fat,n)\n",
        "    distances_fat = nx.shortest_path_length(fat, source=A)\n",
        "    nearest_fat = []\n",
        "    for node,dist in distances_fat.items():\n",
        "      if fat.nodes()[node]['Type'] == 'server' and node!= A:\n",
        "        nearest_fat.append((node,dist))\n",
        "    r = []\n",
        "    t = []\n",
        "    for _ in range(100):\n",
        "        res = simulation(N, fat, tau, E_X, Lo, C, Lf, f, A,distances_fat,nearest_fat)\n",
        "        r.append(res[0])\n",
        "        t.append(res[1])\n",
        "    return np.mean(r), np.mean(t)"
      ]
    },
    {
      "cell_type": "code",
      "execution_count": 30,
      "metadata": {
        "id": "hvcEk3UtTT_f"
      },
      "outputs": [],
      "source": [
        "def simulate_jelly(N):\n",
        "    r = []\n",
        "    t = []\n",
        "    #differently from fat tree that is deterministic, we add randomicity about the\n",
        "    #choice of the server A\n",
        "    for _ in range(100):\n",
        "        A = chooseB(jelly,K)\n",
        "        distances_jelly = nx.shortest_path_length(jelly, source=A)\n",
        "        nearest_jelly = []\n",
        "        for node,dist in distances_jelly.items():\n",
        "          if jelly.nodes()[node]['Type'] == 'server' and node!= A:\n",
        "            nearest_jelly.append((node,dist))\n",
        "        res = simulation(N, jelly, tau, E_X, Lo, C, Lf, f, A,distances_jelly,nearest_jelly)\n",
        "        r.append(res[0])\n",
        "        t.append(res[1])\n",
        "    return np.mean(r), np.mean(t)"
      ]
    },
    {
      "cell_type": "code",
      "execution_count": 31,
      "metadata": {
        "colab": {
          "base_uri": "https://localhost:8080/",
          "height": 599
        },
        "id": "a1hTnXC4TYen",
        "outputId": "373e6cdd-7bd7-43f9-c007-d8d33af66ca4"
      },
      "outputs": [
        {
          "name": "stderr",
          "output_type": "stream",
          "text": [
            "100%|██████████| 10000/10000 [2:26:51<00:00,  1.13it/s]\n",
            "100%|██████████| 10000/10000 [2:49:28<00:00,  1.02s/it]\n"
          ]
        },
        {
          "data": {
            "image/png": "[encoded data removed]",
            "text/plain": [
              "<Figure size 1000x600 with 1 Axes>"
            ]
          },
          "metadata": {},
          "output_type": "display_data"
        }
      ],
      "source": [
        "# example list of N values\n",
        "#we parallelize to speed up, saving the result for fat tree and jellyfish\n",
        "#and passing the arguments for the plot.\n",
        "#N_vec  = range(1,10100,100)\n",
        "\n",
        "R = []\n",
        "T = []\n",
        "with ProcessPoolExecutor() as executor:\n",
        "    results = list(tqdm(executor.map(simulate_fat, N_vec), total=len(N_vec)))\n",
        "\n",
        "for r, t in results:\n",
        "    R.append(r)\n",
        "    T.append(t)\n",
        "  \n",
        "R2 = []\n",
        "T2 = []\n",
        "with ProcessPoolExecutor() as executor:\n",
        "    results2 = list(tqdm(executor.map(simulate_jelly, N_vec), total=len(N_vec)))\n",
        "\n",
        "\n",
        "for r, t in results2:\n",
        "    R2.append(r)\n",
        "    T2.append(t)\n",
        "\n",
        "## calculate S and R_base values\n",
        "xi_T = [Ti*xi for Ti in T]\n",
        "S = np.add(R, xi_T)\n",
        "#we choose size = 100 since we simulate for each node 100 times \n",
        "R_base = T0 + np.mean(np.random.exponential(scale=  E_X,size = 100))\n",
        "#we normalize\n",
        "R = [r/R_base for r in R]\n",
        "\n",
        "xi_T2 = [t*xi for t in T2]\n",
        "S2 = np.add(R2, xi_T2)\n",
        "R2 = [r/R_base for r in R2]\n",
        "\n",
        "# plot the results\n",
        "plt.figure(figsize=(10, 6))\n",
        "plt.plot(N_vec, R, color='C0', label='fat three',linewidth=3)\n",
        "plt.plot(N_vec, R2, color='C1', label='jellyfish',linewidth=3)\n",
        "plt.xlabel('# of servers') # set x label\n",
        "plt.ylabel('Time') # set y label\n",
        "plt.title(\"Mean response time E[R]\") # set title\n",
        "plt.legend()\n",
        "plt.show()"
      ]
    },
    {
      "cell_type": "code",
      "execution_count": 32,
      "metadata": {
        "colab": {
          "base_uri": "https://localhost:8080/",
          "height": 564
        },
        "id": "Br21qUGKhI-n",
        "outputId": "14473f2d-c22e-4cb7-81ab-c64ba872bc3c"
      },
      "outputs": [
        {
          "data": {
            "image/png": "[encoded data removed]",
            "text/plain": [
              "<Figure size 1000x600 with 1 Axes>"
            ]
          },
          "metadata": {},
          "output_type": "display_data"
        }
      ],
      "source": [
        "#again as before we choose size = 100 \n",
        "Work_A = np.mean(np.random.exponential(scale=  E_X,size = 100))\n",
        "#calculation of S_base\n",
        "S_base = T0+Work_A+Work_A*xi\n",
        "#we normalize\n",
        "S_1 = [s/S_base for s in S]\n",
        "S_2 = [s/S_base for s in S2]\n",
        "plt.figure(figsize=(10, 6))\n",
        "plt.plot(N_vec, S_1, label='fat three')\n",
        "plt.plot(N_vec, S_2, label='jellyfish')\n",
        "plt.xlabel('# of servers')\n",
        "plt.ylabel('Response time + think time')\n",
        "plt.title('Job running cost S')\n",
        "plt.legend()\n",
        "plt.show()"
      ]
    },
    {
      "cell_type": "markdown",
      "metadata": {
        "id": "T1lWeexniPpL"
      },
      "source": [
        "Now we want to obtain the value of servers for which we obtain the minimum Job running cost(for the fat tree and jellyfish):"
      ]
    },
    {
      "cell_type": "code",
      "execution_count": 33,
      "metadata": {
        "colab": {
          "base_uri": "https://localhost:8080/"
        },
        "id": "59HjNbNzhrnG",
        "outputId": "569f9459-86ab-4f3e-c7a1-59e4d62e3f6e"
      },
      "outputs": [
        {
          "name": "stdout",
          "output_type": "stream",
          "text": [
            "The # of server for the fat tree topology for which we obtain the minimim is : 192\n",
            "The # of server for the jellyfish topology for which we obtain the minimim is : 191\n"
          ]
        }
      ],
      "source": [
        "min_fat = N_vec[S_1.index(min(S_1))]\n",
        "min_jelly = N_vec[S_2.index(min(S_2))]\n",
        "print('The # of server for the fat tree topology for which we obtain the minimim is :',min_fat)\n",
        "print('The # of server for the jellyfish topology for which we obtain the minimim is :',min_jelly)"
      ]
    }
  ],
  "metadata": {
    "colab": {
      "provenance": []
    },
    "kernelspec": {
      "display_name": "Python 3",
      "language": "python",
      "name": "python3"
    },
    "language_info": {
      "codemirror_mode": {
        "name": "ipython",
        "version": 3
      },
      "file_extension": ".py",
      "mimetype": "text/x-python",
      "name": "python",
      "nbconvert_exporter": "python",
      "pygments_lexer": "ipython3",
      "version": "3.9.7"
    }
  },
  "nbformat": 4,
  "nbformat_minor": 0
}
